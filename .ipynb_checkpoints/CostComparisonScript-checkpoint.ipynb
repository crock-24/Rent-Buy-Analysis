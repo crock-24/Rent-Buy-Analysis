{
 "cells": [
  {
   "cell_type": "code",
   "execution_count": 127,
   "id": "65c76add",
   "metadata": {},
   "outputs": [],
   "source": [
    "#author: Cody Rorick\n",
    "#purpose: To break down cost comparisons of renting vs buying home"
   ]
  },
  {
   "cell_type": "code",
   "execution_count": 128,
   "id": "3194a365",
   "metadata": {},
   "outputs": [],
   "source": [
    "#libraries needed to run the analysis\n",
    "import pandas as pd\n",
    "import numpy as np\n",
    "import matplotlib.pyplot as plt\n",
    "import yfinance as yf\n",
    "from datetime import datetime, timedelta\n",
    "from dateutil.relativedelta import relativedelta"
   ]
  },
  {
   "cell_type": "code",
   "execution_count": 129,
   "id": "52235c5f-4e77-4749-9093-4820b5213daa",
   "metadata": {},
   "outputs": [],
   "source": [
    "\"\"\"\n",
    "    Find the closest weekday (Monday-Friday) to today that has already passed.\n",
    "    If today is a weekday, return yesterday or Friday if today is Monday.\n",
    "    If today is a weekend, return the most recent Friday.\n",
    "    \n",
    "    Parameters:today (datetime.date, optional): The reference date. Defaults to today.\n",
    "    \n",
    "    Returns:datetime.date: The closest past weekday\n",
    "\"\"\"\n",
    "def get_closest_past_weekday(today=None):\n",
    "    # If no date is provided, use today\n",
    "    if today is None:\n",
    "        today = datetime.now().date()\n",
    "    \n",
    "    # Get the day of the week (0=Monday, 1=Tuesday, ..., 6=Sunday)\n",
    "    weekday = today.weekday()\n",
    "    \n",
    "    if weekday == 0:  # Monday\n",
    "        # Return the previous Friday (3 days ago)\n",
    "        return today - timedelta(days=3)\n",
    "    elif weekday == 6:  # Sunday\n",
    "        # Return the previous Friday (2 days ago)\n",
    "        return today - timedelta(days=2)\n",
    "    elif weekday == 5:  # Saturday\n",
    "        # Return the previous Friday (1 day ago)\n",
    "        return today - timedelta(days=1)\n",
    "    else:\n",
    "        # For Tuesday through Friday, return yesterday\n",
    "        return today - timedelta(days=1)"
   ]
  },
  {
   "cell_type": "code",
   "execution_count": 130,
   "id": "c6add880-2b64-49d0-a681-4f62307858b8",
   "metadata": {},
   "outputs": [],
   "source": [
    "\"\"\"\n",
    "    Calculate the complete monthly mortgage payment including taxes, insurance, PMI, and HOA fees.\n",
    "    \n",
    "    Parameters:\n",
    "    principal (float): The loan amount\n",
    "    annual_interest_rate (float): Annual interest rate as a decimal (e.g., 0.04 for 4%)\n",
    "    years (int): Loan term in years\n",
    "    annual_property_tax (float): Annual property tax amount\n",
    "    annual_insurance (float): Annual homeowner's insurance premium\n",
    "    monthly_hoa (float): Monthly homeowner's association fee\n",
    "    \n",
    "    Returns: monthly payment \n",
    "\"\"\"\n",
    "def complete_mortgage_payment(principal, annual_interest_rate, years, annual_property_tax=0, annual_insurance=0, monthly_hoa=0):\n",
    "    # Calculate base mortgage payment (Principal + Interest)\n",
    "    monthly_interest_rate = annual_interest_rate / 12\n",
    "    total_payments = years * 12\n",
    "    \n",
    "    if monthly_interest_rate == 0:\n",
    "        monthly_pi = principal / total_payments\n",
    "    else:\n",
    "        monthly_pi = principal * (monthly_interest_rate * (1 + monthly_interest_rate)**total_payments) / ((1 + monthly_interest_rate)**total_payments - 1)\n",
    "    \n",
    "    # Calculate monthly portions of annual costs\n",
    "    monthly_property_tax = annual_property_tax / 12\n",
    "    monthly_insurance = annual_insurance / 12\n",
    "    \n",
    "    # Calculate total monthly payment\n",
    "    total_monthly_payment = monthly_pi + monthly_property_tax + monthly_insurance  + monthly_hoa\n",
    "    \n",
    "    total_monthly_payment = round(total_monthly_payment, 2)\n",
    "    \n",
    "    return total_monthly_payment"
   ]
  },
  {
   "cell_type": "code",
   "execution_count": 131,
   "id": "ce6b93be-5cab-4ede-8889-a80ee5761c34",
   "metadata": {},
   "outputs": [],
   "source": [
    "\"\"\"\n",
    "    Calculate the future value of a house after a number of years, given an annual appreciation rate.\n",
    "\n",
    "    present_value: float - Current value of the house ($)\n",
    "    annual_appreciation_rate: float - Annual appreciation rate (e.g., 0.03 for 3%)\n",
    "    years: int - Number of years\n",
    "    return: float - Future value of the house\n",
    "\"\"\"\n",
    "def future_house_value(present_value, annual_appreciation_rate, years):\n",
    "    future_value = present_value * (1 + annual_appreciation_rate) ** years\n",
    "    future_value = round(future_value, 2)\n",
    "    return future_value"
   ]
  },
  {
   "cell_type": "code",
   "execution_count": 132,
   "id": "e1df364c",
   "metadata": {},
   "outputs": [
    {
     "name": "stdout",
     "output_type": "stream",
     "text": [
      "Situation: A $80000.0 savings can either be invested or used as a down payment on a $400000 house.\n"
     ]
    }
   ],
   "source": [
    "#assumptions made for analysis\n",
    "mortgage_rate = 0.055\n",
    "years = 14\n",
    "house_cost = 400000\n",
    "down_payment = house_cost * 0.2\n",
    "loan = house_cost - down_payment\n",
    "purchase_date = get_closest_past_weekday(datetime.now().date() - relativedelta(years=years))\n",
    "loan_maturity_date = get_closest_past_weekday(purchase_date + relativedelta(years=years))\n",
    "print(f'Situation: A ${down_payment} savings can either be invested or used as a down payment on a ${house_cost} house.')"
   ]
  },
  {
   "cell_type": "code",
   "execution_count": 133,
   "id": "4f5e1591",
   "metadata": {},
   "outputs": [
    {
     "name": "stdout",
     "output_type": "stream",
     "text": [
      "Approximate monthly payment on $320000.0 loan if 14 years are chosen for %5.5 mortgage: $3418.78\n",
      "If monthly rent in your area is 0.9% of home price, this monthly payment would allow you to rent a $379864.44 house.\n"
     ]
    }
   ],
   "source": [
    "#Getting and printing out what your monthly payment would be\n",
    "#Assigning all additional costs\n",
    "annual_property_tax = house_cost * 0.01  # Example: 1% of home value\n",
    "annual_insurance = 1200  # Example: $1,200 per year\n",
    "monthly_hoa = 250  # Example: $250 per month HOA fee\n",
    "monthly_payment = complete_mortgage_payment(loan, mortgage_rate, years, annual_property_tax, annual_insurance, monthly_hoa)\n",
    "print(f'Approximate monthly payment on ${loan} loan if {years} years are chosen for %{mortgage_rate*100} mortgage: ${monthly_payment}')\n",
    "print(f'If monthly rent in your area is 0.9% of home price, this monthly payment would allow you to rent a ${round(monthly_payment/0.009, 2)} house.')\n"
   ]
  },
  {
   "cell_type": "code",
   "execution_count": 134,
   "id": "f5a2d05e",
   "metadata": {},
   "outputs": [
    {
     "name": "stdout",
     "output_type": "stream",
     "text": [
      "The $80000.0 down payment would be worth $490529.76 if invested in VOO on 2011-06-28 and left in market until 2025-06-27\n",
      "A $400000 house appreciating at about %4.0 yearly will be worth $692670.58 if bought on 2011-06-28 and sold on 2025-06-27\n"
     ]
    }
   ],
   "source": [
    "# Define the stock symbol and date\n",
    "symbol = \"VOO\"\n",
    "\n",
    "#read in the Data\n",
    "url = f\"https://stooq.com/q/d/l/?s={symbol}.US&i=d\"\n",
    "stock = pd.read_csv(url)\n",
    "\n",
    "#convert dates to date-time object\n",
    "stock['Date'] = pd.to_datetime(stock['Date'])\n",
    "stock['Date'] = stock['Date'].dt.date\n",
    "\n",
    "stockInterval = stock.loc[(stock['Date'] >= purchase_date) & (stock['Date'] <= loan_maturity_date), :]\n",
    "stockInterval = stockInterval.reset_index(drop = True)\n",
    "\n",
    "# Calculate how much your investement grew in stock market\n",
    "downpayment_current_value = round((stockInterval.loc[len(stockInterval)-1, 'Close'] / stockInterval.loc[0, 'Close']) * down_payment, 2)\n",
    "print(f'The ${down_payment} savings would be worth ${downpayment_current_value} if invested in VOO on {purchase_date} and left in market until {loan_maturity_date}')\n",
    "\n",
    "#calculate how much your selling price of house would be after paying off\n",
    "House_appreciation = 0.04\n",
    "final_house_price = future_house_value(house_cost, House_appreciation, years)\n",
    "print(f'A ${house_cost} house appreciating at about %{House_appreciation*100} yearly will be worth ${final_house_price} if bought on {purchase_date} and sold on {loan_maturity_date}')\n",
    "\n"
   ]
  },
  {
   "cell_type": "code",
   "execution_count": 135,
   "id": "a55b577c-fdbe-4ae1-9788-d06792ea73a7",
   "metadata": {},
   "outputs": [
    {
     "name": "stdout",
     "output_type": "stream",
     "text": [
      "If maintenance on house is approximately $10000 per year, discount the selling price to $552670.58\n",
      "If $10000 yearly maintenace is instead invested into VOO, your VOO investment including the initial downpayment is $921133.5\n"
     ]
    }
   ],
   "source": [
    "#find true selling price after calculating in for maintenance\n",
    "yearly_maintenance = 10000 \n",
    "total_maintenance = yearly_maintenance * years\n",
    "print(f'If maintenance on house is approximately ${yearly_maintenance} per year, discount the selling price to ${final_house_price - total_maintenance}')\n",
    "\n",
    "# If you instead invested that maintenance cost into into VOO, how much would it be worth?\n",
    "VOO_maintenance_investment = 0\n",
    "selling_price = stockInterval.loc[stockInterval['Date'] == get_closest_past_weekday(loan_maturity_date), 'Close'].item()\n",
    "for i in range(0, years):\n",
    "    purchase_price = stockInterval.loc[stockInterval['Date'] == get_closest_past_weekday(purchase_date + relativedelta(years=i, days = 1)), 'Close'].item()\n",
    "    VOO_maintenance_investment = VOO_maintenance_investment + round((selling_price / purchase_price) * yearly_maintenance, 2)\n",
    "print(f'If ${yearly_maintenance} yearly maintenace is instead invested into VOO, your VOO investment including the initial downpayment is ${downpayment_current_value + VOO_maintenance_investment}')\n"
   ]
  },
  {
   "cell_type": "code",
   "execution_count": 143,
   "id": "c2bfec71-c4db-48d4-8e52-3866f115de22",
   "metadata": {},
   "outputs": [
    {
     "name": "stdout",
     "output_type": "stream",
     "text": [
      "Conclusion:\n",
      "Equity + appreciation makes the house a more attractive investment than S&P500 if less maintenance is required. \n",
      "If more maintenance is required, the S&P 500 becomes a better investment.\n"
     ]
    }
   ],
   "source": [
    "print(f\"Conclusion:\\nEquity + appreciation makes the house a more attractive investment than S&P500 if less maintenance is required. \\nIf more maintenance is required, the S&P 500 becomes a better investment.\")\n"
   ]
  },
  {
   "cell_type": "code",
   "execution_count": 137,
   "id": "5043a1d1",
   "metadata": {},
   "outputs": [
    {
     "data": {
      "image/png": "[encoded data removed]",
      "text/plain": [
       "<Figure size 640x480 with 1 Axes>"
      ]
     },
     "metadata": {},
     "output_type": "display_data"
    }
   ],
   "source": [
    "#plotting the stock desired out\n",
    "ticker = \"VOO\"\n",
    "purchase_price = stockInterval.loc[0, 'Close']\n",
    "stockInterval['Close'] = (stockInterval['Close'] / purchase_price) * down_payment\n",
    "plt.plot(stockInterval['Date'], stockInterval['Close'])\n",
    "plt.title(f'Downpayment if placed in {ticker}')\n",
    "plt.grid()\n",
    "plt.show()"
   ]
  }
 ],
 "metadata": {
  "kernelspec": {
   "display_name": "Python [conda env:base] *",
   "language": "python",
   "name": "conda-base-py"
  },
  "language_info": {
   "codemirror_mode": {
    "name": "ipython",
    "version": 3
   },
   "file_extension": ".py",
   "mimetype": "text/x-python",
   "name": "python",
   "nbconvert_exporter": "python",
   "pygments_lexer": "ipython3",
   "version": "3.10.18"
  }
 },
 "nbformat": 4,
 "nbformat_minor": 5
}
